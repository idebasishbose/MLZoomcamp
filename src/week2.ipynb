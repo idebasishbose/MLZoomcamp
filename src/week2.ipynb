{
 "cells": [
  {
   "cell_type": "code",
   "execution_count": 1356,
   "metadata": {},
   "outputs": [],
   "source": [
    "import numpy as np\n",
    "import pandas as pd\n",
    "import seaborn as sns\n",
    "import matplotlib.pyplot as plt\n",
    "\n",
    "%matplotlib inline"
   ]
  },
  {
   "cell_type": "markdown",
   "metadata": {},
   "source": [
    "EDA\n"
   ]
  },
  {
   "cell_type": "code",
   "execution_count": 1357,
   "metadata": {},
   "outputs": [
    {
     "data": {
      "text/html": [
       "<div>\n",
       "<style scoped>\n",
       "    .dataframe tbody tr th:only-of-type {\n",
       "        vertical-align: middle;\n",
       "    }\n",
       "\n",
       "    .dataframe tbody tr th {\n",
       "        vertical-align: top;\n",
       "    }\n",
       "\n",
       "    .dataframe thead th {\n",
       "        text-align: right;\n",
       "    }\n",
       "</style>\n",
       "<table border=\"1\" class=\"dataframe\">\n",
       "  <thead>\n",
       "    <tr style=\"text-align: right;\">\n",
       "      <th></th>\n",
       "      <th>longitude</th>\n",
       "      <th>latitude</th>\n",
       "      <th>housing_median_age</th>\n",
       "      <th>total_rooms</th>\n",
       "      <th>total_bedrooms</th>\n",
       "      <th>population</th>\n",
       "      <th>households</th>\n",
       "      <th>median_income</th>\n",
       "      <th>median_house_value</th>\n",
       "      <th>ocean_proximity</th>\n",
       "    </tr>\n",
       "  </thead>\n",
       "  <tbody>\n",
       "    <tr>\n",
       "      <th>0</th>\n",
       "      <td>-122.23</td>\n",
       "      <td>37.88</td>\n",
       "      <td>41.0</td>\n",
       "      <td>880.0</td>\n",
       "      <td>129.0</td>\n",
       "      <td>322.0</td>\n",
       "      <td>126.0</td>\n",
       "      <td>8.3252</td>\n",
       "      <td>452600.0</td>\n",
       "      <td>NEAR BAY</td>\n",
       "    </tr>\n",
       "    <tr>\n",
       "      <th>1</th>\n",
       "      <td>-122.22</td>\n",
       "      <td>37.86</td>\n",
       "      <td>21.0</td>\n",
       "      <td>7099.0</td>\n",
       "      <td>1106.0</td>\n",
       "      <td>2401.0</td>\n",
       "      <td>1138.0</td>\n",
       "      <td>8.3014</td>\n",
       "      <td>358500.0</td>\n",
       "      <td>NEAR BAY</td>\n",
       "    </tr>\n",
       "    <tr>\n",
       "      <th>2</th>\n",
       "      <td>-122.24</td>\n",
       "      <td>37.85</td>\n",
       "      <td>52.0</td>\n",
       "      <td>1467.0</td>\n",
       "      <td>190.0</td>\n",
       "      <td>496.0</td>\n",
       "      <td>177.0</td>\n",
       "      <td>7.2574</td>\n",
       "      <td>352100.0</td>\n",
       "      <td>NEAR BAY</td>\n",
       "    </tr>\n",
       "    <tr>\n",
       "      <th>3</th>\n",
       "      <td>-122.25</td>\n",
       "      <td>37.85</td>\n",
       "      <td>52.0</td>\n",
       "      <td>1274.0</td>\n",
       "      <td>235.0</td>\n",
       "      <td>558.0</td>\n",
       "      <td>219.0</td>\n",
       "      <td>5.6431</td>\n",
       "      <td>341300.0</td>\n",
       "      <td>NEAR BAY</td>\n",
       "    </tr>\n",
       "    <tr>\n",
       "      <th>4</th>\n",
       "      <td>-122.25</td>\n",
       "      <td>37.85</td>\n",
       "      <td>52.0</td>\n",
       "      <td>1627.0</td>\n",
       "      <td>280.0</td>\n",
       "      <td>565.0</td>\n",
       "      <td>259.0</td>\n",
       "      <td>3.8462</td>\n",
       "      <td>342200.0</td>\n",
       "      <td>NEAR BAY</td>\n",
       "    </tr>\n",
       "    <tr>\n",
       "      <th>...</th>\n",
       "      <td>...</td>\n",
       "      <td>...</td>\n",
       "      <td>...</td>\n",
       "      <td>...</td>\n",
       "      <td>...</td>\n",
       "      <td>...</td>\n",
       "      <td>...</td>\n",
       "      <td>...</td>\n",
       "      <td>...</td>\n",
       "      <td>...</td>\n",
       "    </tr>\n",
       "    <tr>\n",
       "      <th>20635</th>\n",
       "      <td>-121.09</td>\n",
       "      <td>39.48</td>\n",
       "      <td>25.0</td>\n",
       "      <td>1665.0</td>\n",
       "      <td>374.0</td>\n",
       "      <td>845.0</td>\n",
       "      <td>330.0</td>\n",
       "      <td>1.5603</td>\n",
       "      <td>78100.0</td>\n",
       "      <td>INLAND</td>\n",
       "    </tr>\n",
       "    <tr>\n",
       "      <th>20636</th>\n",
       "      <td>-121.21</td>\n",
       "      <td>39.49</td>\n",
       "      <td>18.0</td>\n",
       "      <td>697.0</td>\n",
       "      <td>150.0</td>\n",
       "      <td>356.0</td>\n",
       "      <td>114.0</td>\n",
       "      <td>2.5568</td>\n",
       "      <td>77100.0</td>\n",
       "      <td>INLAND</td>\n",
       "    </tr>\n",
       "    <tr>\n",
       "      <th>20637</th>\n",
       "      <td>-121.22</td>\n",
       "      <td>39.43</td>\n",
       "      <td>17.0</td>\n",
       "      <td>2254.0</td>\n",
       "      <td>485.0</td>\n",
       "      <td>1007.0</td>\n",
       "      <td>433.0</td>\n",
       "      <td>1.7000</td>\n",
       "      <td>92300.0</td>\n",
       "      <td>INLAND</td>\n",
       "    </tr>\n",
       "    <tr>\n",
       "      <th>20638</th>\n",
       "      <td>-121.32</td>\n",
       "      <td>39.43</td>\n",
       "      <td>18.0</td>\n",
       "      <td>1860.0</td>\n",
       "      <td>409.0</td>\n",
       "      <td>741.0</td>\n",
       "      <td>349.0</td>\n",
       "      <td>1.8672</td>\n",
       "      <td>84700.0</td>\n",
       "      <td>INLAND</td>\n",
       "    </tr>\n",
       "    <tr>\n",
       "      <th>20639</th>\n",
       "      <td>-121.24</td>\n",
       "      <td>39.37</td>\n",
       "      <td>16.0</td>\n",
       "      <td>2785.0</td>\n",
       "      <td>616.0</td>\n",
       "      <td>1387.0</td>\n",
       "      <td>530.0</td>\n",
       "      <td>2.3886</td>\n",
       "      <td>89400.0</td>\n",
       "      <td>INLAND</td>\n",
       "    </tr>\n",
       "  </tbody>\n",
       "</table>\n",
       "<p>20640 rows × 10 columns</p>\n",
       "</div>"
      ],
      "text/plain": [
       "       longitude  latitude  housing_median_age  total_rooms  total_bedrooms  \\\n",
       "0        -122.23     37.88                41.0        880.0           129.0   \n",
       "1        -122.22     37.86                21.0       7099.0          1106.0   \n",
       "2        -122.24     37.85                52.0       1467.0           190.0   \n",
       "3        -122.25     37.85                52.0       1274.0           235.0   \n",
       "4        -122.25     37.85                52.0       1627.0           280.0   \n",
       "...          ...       ...                 ...          ...             ...   \n",
       "20635    -121.09     39.48                25.0       1665.0           374.0   \n",
       "20636    -121.21     39.49                18.0        697.0           150.0   \n",
       "20637    -121.22     39.43                17.0       2254.0           485.0   \n",
       "20638    -121.32     39.43                18.0       1860.0           409.0   \n",
       "20639    -121.24     39.37                16.0       2785.0           616.0   \n",
       "\n",
       "       population  households  median_income  median_house_value  \\\n",
       "0           322.0       126.0         8.3252            452600.0   \n",
       "1          2401.0      1138.0         8.3014            358500.0   \n",
       "2           496.0       177.0         7.2574            352100.0   \n",
       "3           558.0       219.0         5.6431            341300.0   \n",
       "4           565.0       259.0         3.8462            342200.0   \n",
       "...           ...         ...            ...                 ...   \n",
       "20635       845.0       330.0         1.5603             78100.0   \n",
       "20636       356.0       114.0         2.5568             77100.0   \n",
       "20637      1007.0       433.0         1.7000             92300.0   \n",
       "20638       741.0       349.0         1.8672             84700.0   \n",
       "20639      1387.0       530.0         2.3886             89400.0   \n",
       "\n",
       "      ocean_proximity  \n",
       "0            NEAR BAY  \n",
       "1            NEAR BAY  \n",
       "2            NEAR BAY  \n",
       "3            NEAR BAY  \n",
       "4            NEAR BAY  \n",
       "...               ...  \n",
       "20635          INLAND  \n",
       "20636          INLAND  \n",
       "20637          INLAND  \n",
       "20638          INLAND  \n",
       "20639          INLAND  \n",
       "\n",
       "[20640 rows x 10 columns]"
      ]
     },
     "execution_count": 1357,
     "metadata": {},
     "output_type": "execute_result"
    }
   ],
   "source": [
    "# load the data\n",
    "df = pd.read_csv(\"housing.csv\")\n",
    "df"
   ]
  },
  {
   "cell_type": "code",
   "execution_count": 1358,
   "metadata": {},
   "outputs": [
    {
     "name": "stdout",
     "output_type": "stream",
     "text": [
      "['NEAR BAY' '<1H OCEAN' 'INLAND' 'NEAR OCEAN' 'ISLAND'], 5 unique values\n"
     ]
    }
   ],
   "source": [
    "# get all the unique values for 'ocean_proximity' col\n",
    "print(\n",
    "    f\"{df['ocean_proximity'].unique()}, {df['ocean_proximity'].nunique()} unique values\"\n",
    ")"
   ]
  },
  {
   "cell_type": "markdown",
   "metadata": {},
   "source": [
    "Preparing the dataset\n"
   ]
  },
  {
   "cell_type": "markdown",
   "metadata": {},
   "source": [
    "First, keep only the records where ocean_proximity is either '<1H OCEAN' or 'INLAND'\n"
   ]
  },
  {
   "cell_type": "code",
   "execution_count": 1359,
   "metadata": {},
   "outputs": [
    {
     "data": {
      "text/html": [
       "<div>\n",
       "<style scoped>\n",
       "    .dataframe tbody tr th:only-of-type {\n",
       "        vertical-align: middle;\n",
       "    }\n",
       "\n",
       "    .dataframe tbody tr th {\n",
       "        vertical-align: top;\n",
       "    }\n",
       "\n",
       "    .dataframe thead th {\n",
       "        text-align: right;\n",
       "    }\n",
       "</style>\n",
       "<table border=\"1\" class=\"dataframe\">\n",
       "  <thead>\n",
       "    <tr style=\"text-align: right;\">\n",
       "      <th></th>\n",
       "      <th>longitude</th>\n",
       "      <th>latitude</th>\n",
       "      <th>housing_median_age</th>\n",
       "      <th>total_rooms</th>\n",
       "      <th>total_bedrooms</th>\n",
       "      <th>population</th>\n",
       "      <th>households</th>\n",
       "      <th>median_income</th>\n",
       "      <th>median_house_value</th>\n",
       "      <th>ocean_proximity</th>\n",
       "    </tr>\n",
       "  </thead>\n",
       "  <tbody>\n",
       "    <tr>\n",
       "      <th>701</th>\n",
       "      <td>-121.97</td>\n",
       "      <td>37.64</td>\n",
       "      <td>32.0</td>\n",
       "      <td>1283.0</td>\n",
       "      <td>194.0</td>\n",
       "      <td>485.0</td>\n",
       "      <td>171.0</td>\n",
       "      <td>6.0574</td>\n",
       "      <td>431000.0</td>\n",
       "      <td>&lt;1H OCEAN</td>\n",
       "    </tr>\n",
       "    <tr>\n",
       "      <th>830</th>\n",
       "      <td>-121.99</td>\n",
       "      <td>37.61</td>\n",
       "      <td>9.0</td>\n",
       "      <td>3666.0</td>\n",
       "      <td>711.0</td>\n",
       "      <td>2341.0</td>\n",
       "      <td>703.0</td>\n",
       "      <td>4.6458</td>\n",
       "      <td>217000.0</td>\n",
       "      <td>&lt;1H OCEAN</td>\n",
       "    </tr>\n",
       "    <tr>\n",
       "      <th>859</th>\n",
       "      <td>-121.97</td>\n",
       "      <td>37.57</td>\n",
       "      <td>21.0</td>\n",
       "      <td>4342.0</td>\n",
       "      <td>783.0</td>\n",
       "      <td>2172.0</td>\n",
       "      <td>789.0</td>\n",
       "      <td>4.6146</td>\n",
       "      <td>247600.0</td>\n",
       "      <td>&lt;1H OCEAN</td>\n",
       "    </tr>\n",
       "    <tr>\n",
       "      <th>860</th>\n",
       "      <td>-121.96</td>\n",
       "      <td>37.58</td>\n",
       "      <td>15.0</td>\n",
       "      <td>3575.0</td>\n",
       "      <td>597.0</td>\n",
       "      <td>1777.0</td>\n",
       "      <td>559.0</td>\n",
       "      <td>5.7192</td>\n",
       "      <td>283500.0</td>\n",
       "      <td>&lt;1H OCEAN</td>\n",
       "    </tr>\n",
       "    <tr>\n",
       "      <th>861</th>\n",
       "      <td>-121.98</td>\n",
       "      <td>37.58</td>\n",
       "      <td>20.0</td>\n",
       "      <td>4126.0</td>\n",
       "      <td>1031.0</td>\n",
       "      <td>2079.0</td>\n",
       "      <td>975.0</td>\n",
       "      <td>3.6832</td>\n",
       "      <td>216900.0</td>\n",
       "      <td>&lt;1H OCEAN</td>\n",
       "    </tr>\n",
       "    <tr>\n",
       "      <th>...</th>\n",
       "      <td>...</td>\n",
       "      <td>...</td>\n",
       "      <td>...</td>\n",
       "      <td>...</td>\n",
       "      <td>...</td>\n",
       "      <td>...</td>\n",
       "      <td>...</td>\n",
       "      <td>...</td>\n",
       "      <td>...</td>\n",
       "      <td>...</td>\n",
       "    </tr>\n",
       "    <tr>\n",
       "      <th>20635</th>\n",
       "      <td>-121.09</td>\n",
       "      <td>39.48</td>\n",
       "      <td>25.0</td>\n",
       "      <td>1665.0</td>\n",
       "      <td>374.0</td>\n",
       "      <td>845.0</td>\n",
       "      <td>330.0</td>\n",
       "      <td>1.5603</td>\n",
       "      <td>78100.0</td>\n",
       "      <td>INLAND</td>\n",
       "    </tr>\n",
       "    <tr>\n",
       "      <th>20636</th>\n",
       "      <td>-121.21</td>\n",
       "      <td>39.49</td>\n",
       "      <td>18.0</td>\n",
       "      <td>697.0</td>\n",
       "      <td>150.0</td>\n",
       "      <td>356.0</td>\n",
       "      <td>114.0</td>\n",
       "      <td>2.5568</td>\n",
       "      <td>77100.0</td>\n",
       "      <td>INLAND</td>\n",
       "    </tr>\n",
       "    <tr>\n",
       "      <th>20637</th>\n",
       "      <td>-121.22</td>\n",
       "      <td>39.43</td>\n",
       "      <td>17.0</td>\n",
       "      <td>2254.0</td>\n",
       "      <td>485.0</td>\n",
       "      <td>1007.0</td>\n",
       "      <td>433.0</td>\n",
       "      <td>1.7000</td>\n",
       "      <td>92300.0</td>\n",
       "      <td>INLAND</td>\n",
       "    </tr>\n",
       "    <tr>\n",
       "      <th>20638</th>\n",
       "      <td>-121.32</td>\n",
       "      <td>39.43</td>\n",
       "      <td>18.0</td>\n",
       "      <td>1860.0</td>\n",
       "      <td>409.0</td>\n",
       "      <td>741.0</td>\n",
       "      <td>349.0</td>\n",
       "      <td>1.8672</td>\n",
       "      <td>84700.0</td>\n",
       "      <td>INLAND</td>\n",
       "    </tr>\n",
       "    <tr>\n",
       "      <th>20639</th>\n",
       "      <td>-121.24</td>\n",
       "      <td>39.37</td>\n",
       "      <td>16.0</td>\n",
       "      <td>2785.0</td>\n",
       "      <td>616.0</td>\n",
       "      <td>1387.0</td>\n",
       "      <td>530.0</td>\n",
       "      <td>2.3886</td>\n",
       "      <td>89400.0</td>\n",
       "      <td>INLAND</td>\n",
       "    </tr>\n",
       "  </tbody>\n",
       "</table>\n",
       "<p>15687 rows × 10 columns</p>\n",
       "</div>"
      ],
      "text/plain": [
       "       longitude  latitude  housing_median_age  total_rooms  total_bedrooms  \\\n",
       "701      -121.97     37.64                32.0       1283.0           194.0   \n",
       "830      -121.99     37.61                 9.0       3666.0           711.0   \n",
       "859      -121.97     37.57                21.0       4342.0           783.0   \n",
       "860      -121.96     37.58                15.0       3575.0           597.0   \n",
       "861      -121.98     37.58                20.0       4126.0          1031.0   \n",
       "...          ...       ...                 ...          ...             ...   \n",
       "20635    -121.09     39.48                25.0       1665.0           374.0   \n",
       "20636    -121.21     39.49                18.0        697.0           150.0   \n",
       "20637    -121.22     39.43                17.0       2254.0           485.0   \n",
       "20638    -121.32     39.43                18.0       1860.0           409.0   \n",
       "20639    -121.24     39.37                16.0       2785.0           616.0   \n",
       "\n",
       "       population  households  median_income  median_house_value  \\\n",
       "701         485.0       171.0         6.0574            431000.0   \n",
       "830        2341.0       703.0         4.6458            217000.0   \n",
       "859        2172.0       789.0         4.6146            247600.0   \n",
       "860        1777.0       559.0         5.7192            283500.0   \n",
       "861        2079.0       975.0         3.6832            216900.0   \n",
       "...           ...         ...            ...                 ...   \n",
       "20635       845.0       330.0         1.5603             78100.0   \n",
       "20636       356.0       114.0         2.5568             77100.0   \n",
       "20637      1007.0       433.0         1.7000             92300.0   \n",
       "20638       741.0       349.0         1.8672             84700.0   \n",
       "20639      1387.0       530.0         2.3886             89400.0   \n",
       "\n",
       "      ocean_proximity  \n",
       "701         <1H OCEAN  \n",
       "830         <1H OCEAN  \n",
       "859         <1H OCEAN  \n",
       "860         <1H OCEAN  \n",
       "861         <1H OCEAN  \n",
       "...               ...  \n",
       "20635          INLAND  \n",
       "20636          INLAND  \n",
       "20637          INLAND  \n",
       "20638          INLAND  \n",
       "20639          INLAND  \n",
       "\n",
       "[15687 rows x 10 columns]"
      ]
     },
     "execution_count": 1359,
     "metadata": {},
     "output_type": "execute_result"
    }
   ],
   "source": [
    "df = df[(df[\"ocean_proximity\"] == \"<1H OCEAN\") | (df[\"ocean_proximity\"] == \"INLAND\")]\n",
    "df"
   ]
  },
  {
   "cell_type": "code",
   "execution_count": 1360,
   "metadata": {},
   "outputs": [
    {
     "data": {
      "text/html": [
       "<div>\n",
       "<style scoped>\n",
       "    .dataframe tbody tr th:only-of-type {\n",
       "        vertical-align: middle;\n",
       "    }\n",
       "\n",
       "    .dataframe tbody tr th {\n",
       "        vertical-align: top;\n",
       "    }\n",
       "\n",
       "    .dataframe thead th {\n",
       "        text-align: right;\n",
       "    }\n",
       "</style>\n",
       "<table border=\"1\" class=\"dataframe\">\n",
       "  <thead>\n",
       "    <tr style=\"text-align: right;\">\n",
       "      <th></th>\n",
       "      <th>longitude</th>\n",
       "      <th>latitude</th>\n",
       "      <th>housing_median_age</th>\n",
       "      <th>total_rooms</th>\n",
       "      <th>total_bedrooms</th>\n",
       "      <th>population</th>\n",
       "      <th>households</th>\n",
       "      <th>median_income</th>\n",
       "      <th>median_house_value</th>\n",
       "    </tr>\n",
       "  </thead>\n",
       "  <tbody>\n",
       "    <tr>\n",
       "      <th>count</th>\n",
       "      <td>15687.000000</td>\n",
       "      <td>15687.000000</td>\n",
       "      <td>15687.000000</td>\n",
       "      <td>15687.000000</td>\n",
       "      <td>15530.000000</td>\n",
       "      <td>15687.000000</td>\n",
       "      <td>15687.000000</td>\n",
       "      <td>15687.000000</td>\n",
       "      <td>15687.000000</td>\n",
       "    </tr>\n",
       "    <tr>\n",
       "      <th>mean</th>\n",
       "      <td>-119.217442</td>\n",
       "      <td>35.467307</td>\n",
       "      <td>27.188118</td>\n",
       "      <td>2665.677312</td>\n",
       "      <td>541.244688</td>\n",
       "      <td>1466.317205</td>\n",
       "      <td>500.916491</td>\n",
       "      <td>3.804019</td>\n",
       "      <td>191943.020017</td>\n",
       "    </tr>\n",
       "    <tr>\n",
       "      <th>std</th>\n",
       "      <td>1.780380</td>\n",
       "      <td>2.066387</td>\n",
       "      <td>12.057128</td>\n",
       "      <td>2257.672743</td>\n",
       "      <td>435.650018</td>\n",
       "      <td>1180.389908</td>\n",
       "      <td>392.759399</td>\n",
       "      <td>1.857158</td>\n",
       "      <td>108801.077620</td>\n",
       "    </tr>\n",
       "    <tr>\n",
       "      <th>min</th>\n",
       "      <td>-124.140000</td>\n",
       "      <td>32.610000</td>\n",
       "      <td>1.000000</td>\n",
       "      <td>2.000000</td>\n",
       "      <td>2.000000</td>\n",
       "      <td>3.000000</td>\n",
       "      <td>2.000000</td>\n",
       "      <td>0.499900</td>\n",
       "      <td>14999.000000</td>\n",
       "    </tr>\n",
       "    <tr>\n",
       "      <th>25%</th>\n",
       "      <td>-121.070000</td>\n",
       "      <td>33.940000</td>\n",
       "      <td>17.000000</td>\n",
       "      <td>1441.000000</td>\n",
       "      <td>295.000000</td>\n",
       "      <td>802.000000</td>\n",
       "      <td>278.000000</td>\n",
       "      <td>2.520800</td>\n",
       "      <td>111300.000000</td>\n",
       "    </tr>\n",
       "    <tr>\n",
       "      <th>50%</th>\n",
       "      <td>-118.370000</td>\n",
       "      <td>34.160000</td>\n",
       "      <td>27.000000</td>\n",
       "      <td>2118.000000</td>\n",
       "      <td>432.000000</td>\n",
       "      <td>1195.000000</td>\n",
       "      <td>406.000000</td>\n",
       "      <td>3.468800</td>\n",
       "      <td>166900.000000</td>\n",
       "    </tr>\n",
       "    <tr>\n",
       "      <th>75%</th>\n",
       "      <td>-117.990000</td>\n",
       "      <td>37.340000</td>\n",
       "      <td>36.000000</td>\n",
       "      <td>3172.000000</td>\n",
       "      <td>645.000000</td>\n",
       "      <td>1777.000000</td>\n",
       "      <td>602.000000</td>\n",
       "      <td>4.686200</td>\n",
       "      <td>241100.000000</td>\n",
       "    </tr>\n",
       "    <tr>\n",
       "      <th>max</th>\n",
       "      <td>-114.310000</td>\n",
       "      <td>41.950000</td>\n",
       "      <td>52.000000</td>\n",
       "      <td>39320.000000</td>\n",
       "      <td>6445.000000</td>\n",
       "      <td>35682.000000</td>\n",
       "      <td>6082.000000</td>\n",
       "      <td>15.000100</td>\n",
       "      <td>500001.000000</td>\n",
       "    </tr>\n",
       "  </tbody>\n",
       "</table>\n",
       "</div>"
      ],
      "text/plain": [
       "          longitude      latitude  housing_median_age   total_rooms  \\\n",
       "count  15687.000000  15687.000000        15687.000000  15687.000000   \n",
       "mean    -119.217442     35.467307           27.188118   2665.677312   \n",
       "std        1.780380      2.066387           12.057128   2257.672743   \n",
       "min     -124.140000     32.610000            1.000000      2.000000   \n",
       "25%     -121.070000     33.940000           17.000000   1441.000000   \n",
       "50%     -118.370000     34.160000           27.000000   2118.000000   \n",
       "75%     -117.990000     37.340000           36.000000   3172.000000   \n",
       "max     -114.310000     41.950000           52.000000  39320.000000   \n",
       "\n",
       "       total_bedrooms    population    households  median_income  \\\n",
       "count    15530.000000  15687.000000  15687.000000   15687.000000   \n",
       "mean       541.244688   1466.317205    500.916491       3.804019   \n",
       "std        435.650018   1180.389908    392.759399       1.857158   \n",
       "min          2.000000      3.000000      2.000000       0.499900   \n",
       "25%        295.000000    802.000000    278.000000       2.520800   \n",
       "50%        432.000000   1195.000000    406.000000       3.468800   \n",
       "75%        645.000000   1777.000000    602.000000       4.686200   \n",
       "max       6445.000000  35682.000000   6082.000000      15.000100   \n",
       "\n",
       "       median_house_value  \n",
       "count        15687.000000  \n",
       "mean        191943.020017  \n",
       "std         108801.077620  \n",
       "min          14999.000000  \n",
       "25%         111300.000000  \n",
       "50%         166900.000000  \n",
       "75%         241100.000000  \n",
       "max         500001.000000  "
      ]
     },
     "execution_count": 1360,
     "metadata": {},
     "output_type": "execute_result"
    }
   ],
   "source": [
    "df.describe()"
   ]
  },
  {
   "cell_type": "markdown",
   "metadata": {},
   "source": [
    "Next, use only the following columns:\n",
    "\n",
    "'latitude',\n",
    "'longitude',\n",
    "'housing_median_age',\n",
    "'total_rooms',\n",
    "'total_bedrooms',\n",
    "'population',\n",
    "'households',\n",
    "'median_income',\n",
    "'median_house_value'\n"
   ]
  },
  {
   "cell_type": "code",
   "execution_count": 1361,
   "metadata": {},
   "outputs": [
    {
     "data": {
      "text/html": [
       "<div>\n",
       "<style scoped>\n",
       "    .dataframe tbody tr th:only-of-type {\n",
       "        vertical-align: middle;\n",
       "    }\n",
       "\n",
       "    .dataframe tbody tr th {\n",
       "        vertical-align: top;\n",
       "    }\n",
       "\n",
       "    .dataframe thead th {\n",
       "        text-align: right;\n",
       "    }\n",
       "</style>\n",
       "<table border=\"1\" class=\"dataframe\">\n",
       "  <thead>\n",
       "    <tr style=\"text-align: right;\">\n",
       "      <th></th>\n",
       "      <th>longitude</th>\n",
       "      <th>latitude</th>\n",
       "      <th>housing_median_age</th>\n",
       "      <th>total_rooms</th>\n",
       "      <th>total_bedrooms</th>\n",
       "      <th>population</th>\n",
       "      <th>households</th>\n",
       "      <th>median_income</th>\n",
       "      <th>median_house_value</th>\n",
       "    </tr>\n",
       "  </thead>\n",
       "  <tbody>\n",
       "    <tr>\n",
       "      <th>701</th>\n",
       "      <td>-121.97</td>\n",
       "      <td>37.64</td>\n",
       "      <td>32.0</td>\n",
       "      <td>1283.0</td>\n",
       "      <td>194.0</td>\n",
       "      <td>485.0</td>\n",
       "      <td>171.0</td>\n",
       "      <td>6.0574</td>\n",
       "      <td>431000.0</td>\n",
       "    </tr>\n",
       "    <tr>\n",
       "      <th>830</th>\n",
       "      <td>-121.99</td>\n",
       "      <td>37.61</td>\n",
       "      <td>9.0</td>\n",
       "      <td>3666.0</td>\n",
       "      <td>711.0</td>\n",
       "      <td>2341.0</td>\n",
       "      <td>703.0</td>\n",
       "      <td>4.6458</td>\n",
       "      <td>217000.0</td>\n",
       "    </tr>\n",
       "    <tr>\n",
       "      <th>859</th>\n",
       "      <td>-121.97</td>\n",
       "      <td>37.57</td>\n",
       "      <td>21.0</td>\n",
       "      <td>4342.0</td>\n",
       "      <td>783.0</td>\n",
       "      <td>2172.0</td>\n",
       "      <td>789.0</td>\n",
       "      <td>4.6146</td>\n",
       "      <td>247600.0</td>\n",
       "    </tr>\n",
       "    <tr>\n",
       "      <th>860</th>\n",
       "      <td>-121.96</td>\n",
       "      <td>37.58</td>\n",
       "      <td>15.0</td>\n",
       "      <td>3575.0</td>\n",
       "      <td>597.0</td>\n",
       "      <td>1777.0</td>\n",
       "      <td>559.0</td>\n",
       "      <td>5.7192</td>\n",
       "      <td>283500.0</td>\n",
       "    </tr>\n",
       "    <tr>\n",
       "      <th>861</th>\n",
       "      <td>-121.98</td>\n",
       "      <td>37.58</td>\n",
       "      <td>20.0</td>\n",
       "      <td>4126.0</td>\n",
       "      <td>1031.0</td>\n",
       "      <td>2079.0</td>\n",
       "      <td>975.0</td>\n",
       "      <td>3.6832</td>\n",
       "      <td>216900.0</td>\n",
       "    </tr>\n",
       "    <tr>\n",
       "      <th>...</th>\n",
       "      <td>...</td>\n",
       "      <td>...</td>\n",
       "      <td>...</td>\n",
       "      <td>...</td>\n",
       "      <td>...</td>\n",
       "      <td>...</td>\n",
       "      <td>...</td>\n",
       "      <td>...</td>\n",
       "      <td>...</td>\n",
       "    </tr>\n",
       "    <tr>\n",
       "      <th>20635</th>\n",
       "      <td>-121.09</td>\n",
       "      <td>39.48</td>\n",
       "      <td>25.0</td>\n",
       "      <td>1665.0</td>\n",
       "      <td>374.0</td>\n",
       "      <td>845.0</td>\n",
       "      <td>330.0</td>\n",
       "      <td>1.5603</td>\n",
       "      <td>78100.0</td>\n",
       "    </tr>\n",
       "    <tr>\n",
       "      <th>20636</th>\n",
       "      <td>-121.21</td>\n",
       "      <td>39.49</td>\n",
       "      <td>18.0</td>\n",
       "      <td>697.0</td>\n",
       "      <td>150.0</td>\n",
       "      <td>356.0</td>\n",
       "      <td>114.0</td>\n",
       "      <td>2.5568</td>\n",
       "      <td>77100.0</td>\n",
       "    </tr>\n",
       "    <tr>\n",
       "      <th>20637</th>\n",
       "      <td>-121.22</td>\n",
       "      <td>39.43</td>\n",
       "      <td>17.0</td>\n",
       "      <td>2254.0</td>\n",
       "      <td>485.0</td>\n",
       "      <td>1007.0</td>\n",
       "      <td>433.0</td>\n",
       "      <td>1.7000</td>\n",
       "      <td>92300.0</td>\n",
       "    </tr>\n",
       "    <tr>\n",
       "      <th>20638</th>\n",
       "      <td>-121.32</td>\n",
       "      <td>39.43</td>\n",
       "      <td>18.0</td>\n",
       "      <td>1860.0</td>\n",
       "      <td>409.0</td>\n",
       "      <td>741.0</td>\n",
       "      <td>349.0</td>\n",
       "      <td>1.8672</td>\n",
       "      <td>84700.0</td>\n",
       "    </tr>\n",
       "    <tr>\n",
       "      <th>20639</th>\n",
       "      <td>-121.24</td>\n",
       "      <td>39.37</td>\n",
       "      <td>16.0</td>\n",
       "      <td>2785.0</td>\n",
       "      <td>616.0</td>\n",
       "      <td>1387.0</td>\n",
       "      <td>530.0</td>\n",
       "      <td>2.3886</td>\n",
       "      <td>89400.0</td>\n",
       "    </tr>\n",
       "  </tbody>\n",
       "</table>\n",
       "<p>15687 rows × 9 columns</p>\n",
       "</div>"
      ],
      "text/plain": [
       "       longitude  latitude  housing_median_age  total_rooms  total_bedrooms  \\\n",
       "701      -121.97     37.64                32.0       1283.0           194.0   \n",
       "830      -121.99     37.61                 9.0       3666.0           711.0   \n",
       "859      -121.97     37.57                21.0       4342.0           783.0   \n",
       "860      -121.96     37.58                15.0       3575.0           597.0   \n",
       "861      -121.98     37.58                20.0       4126.0          1031.0   \n",
       "...          ...       ...                 ...          ...             ...   \n",
       "20635    -121.09     39.48                25.0       1665.0           374.0   \n",
       "20636    -121.21     39.49                18.0        697.0           150.0   \n",
       "20637    -121.22     39.43                17.0       2254.0           485.0   \n",
       "20638    -121.32     39.43                18.0       1860.0           409.0   \n",
       "20639    -121.24     39.37                16.0       2785.0           616.0   \n",
       "\n",
       "       population  households  median_income  median_house_value  \n",
       "701         485.0       171.0         6.0574            431000.0  \n",
       "830        2341.0       703.0         4.6458            217000.0  \n",
       "859        2172.0       789.0         4.6146            247600.0  \n",
       "860        1777.0       559.0         5.7192            283500.0  \n",
       "861        2079.0       975.0         3.6832            216900.0  \n",
       "...           ...         ...            ...                 ...  \n",
       "20635       845.0       330.0         1.5603             78100.0  \n",
       "20636       356.0       114.0         2.5568             77100.0  \n",
       "20637      1007.0       433.0         1.7000             92300.0  \n",
       "20638       741.0       349.0         1.8672             84700.0  \n",
       "20639      1387.0       530.0         2.3886             89400.0  \n",
       "\n",
       "[15687 rows x 9 columns]"
      ]
     },
     "execution_count": 1361,
     "metadata": {},
     "output_type": "execute_result"
    }
   ],
   "source": [
    "# df = df[[\n",
    "# 'latitude',\n",
    "# 'longitude',\n",
    "# 'housing_median_age',\n",
    "# 'total_rooms',\n",
    "# 'total_bedrooms',\n",
    "# 'population',\n",
    "# 'households',\n",
    "# 'median_income',\n",
    "# 'median_house_value']]\n",
    "df = df.loc[:, df.columns != \"ocean_proximity\"]\n",
    "df"
   ]
  },
  {
   "cell_type": "markdown",
   "metadata": {},
   "source": [
    "Number of columns?\n"
   ]
  },
  {
   "cell_type": "code",
   "execution_count": 1362,
   "metadata": {},
   "outputs": [
    {
     "data": {
      "text/plain": [
       "9"
      ]
     },
     "execution_count": 1362,
     "metadata": {},
     "output_type": "execute_result"
    }
   ],
   "source": [
    "df.shape[1]"
   ]
  },
  {
   "cell_type": "markdown",
   "metadata": {},
   "source": [
    "Question 1\n"
   ]
  },
  {
   "cell_type": "code",
   "execution_count": 1363,
   "metadata": {},
   "outputs": [
    {
     "data": {
      "text/plain": [
       "longitude               0\n",
       "latitude                0\n",
       "housing_median_age      0\n",
       "total_rooms             0\n",
       "total_bedrooms        157\n",
       "population              0\n",
       "households              0\n",
       "median_income           0\n",
       "median_house_value      0\n",
       "dtype: int64"
      ]
     },
     "execution_count": 1363,
     "metadata": {},
     "output_type": "execute_result"
    }
   ],
   "source": [
    "df.isnull().sum()"
   ]
  },
  {
   "cell_type": "markdown",
   "metadata": {},
   "source": [
    "Question 2\n",
    "What's the median (50% percentile) for variable 'population'?\n"
   ]
  },
  {
   "cell_type": "code",
   "execution_count": 1364,
   "metadata": {},
   "outputs": [
    {
     "data": {
      "text/plain": [
       "1195.0"
      ]
     },
     "execution_count": 1364,
     "metadata": {},
     "output_type": "execute_result"
    }
   ],
   "source": [
    "df.population.median()"
   ]
  },
  {
   "cell_type": "code",
   "execution_count": 1365,
   "metadata": {},
   "outputs": [],
   "source": [
    "# sns.histplot(df.median_house_value)"
   ]
  },
  {
   "cell_type": "markdown",
   "metadata": {},
   "source": [
    "Prepare and split the dataset\n",
    "\n",
    "1. Shuffle the dataset (the filtered one you created above), use seed 42.\n",
    "2. Split your data in train/val/test sets, with 60%/20%/20% distribution.\n",
    "3. Apply the log transformation to the _median_house_value_ variable using the np.log1p() function.\n"
   ]
  },
  {
   "cell_type": "code",
   "execution_count": 1366,
   "metadata": {},
   "outputs": [],
   "source": [
    "# set seed for reproducibility\n",
    "seed = 9#for 6th question\n",
    "\n",
    "# 1. Shuffle the dataset (the filtered one you created above), use seed 42.\n",
    "\n",
    "\n",
    "np.random.seed(seed)"
   ]
  },
  {
   "cell_type": "code",
   "execution_count": 1367,
   "metadata": {},
   "outputs": [],
   "source": [
    "# Split your data in train/val/test sets, with 60%/20%/20% distribution.\n",
    "idx = np.arange(len(df))\n",
    "np.random.shuffle(idx)\n",
    "df_shuffled = df.iloc[idx]\n",
    "df_shuffled\n",
    "\n",
    "\n",
    "n = len(df_shuffled)\n",
    "n_val = int(0.2 * n)\n",
    "n_test = int(0.2 * n)\n",
    "n_train = n - n_val - n_test\n",
    "\n",
    "\n",
    "# check if total sample = validation+test+train samples\n",
    "assert n == (n_val + n_test + n_train)"
   ]
  },
  {
   "cell_type": "code",
   "execution_count": 1368,
   "metadata": {},
   "outputs": [],
   "source": [
    "df_train = df_shuffled.iloc[:n_train].copy()\n",
    "df_val = df_shuffled.iloc[n_train : n_train + n_val].copy()\n",
    "df_test = df_shuffled.iloc[n_train + n_val :].copy()\n",
    "\n",
    "\n",
    "df_train = df_train.reset_index(drop=True)\n",
    "df_val = df_val.reset_index(drop=True)\n",
    "df_test = df_test.reset_index(drop=True)"
   ]
  },
  {
   "cell_type": "code",
   "execution_count": 1369,
   "metadata": {},
   "outputs": [],
   "source": [
    "# 3. Apply the log transformation to the _median_house_value_ variable using the np.log1p() function.\n",
    "y_train_orig = df_train.median_house_value.values\n",
    "y_val_orig = df_val.median_house_value.values\n",
    "y_test_orig = df_test.median_house_value.values\n",
    "\n",
    "y_train = np.log1p(y_train_orig)\n",
    "y_val = np.log1p(y_val_orig)\n",
    "y_test = np.log1p(y_test_orig)\n",
    "df_train\n",
    "\n",
    "# need to delete as this should not ba part of the training\n",
    "del df_train[\"median_house_value\"]\n",
    "del df_val[\"median_house_value\"]\n",
    "del df_test[\"median_house_value\"]"
   ]
  },
  {
   "cell_type": "markdown",
   "metadata": {},
   "source": [
    "Question 3\n",
    "\n",
    "1. We need to deal with missing values for the column from Q1.\n",
    "2. We have two options: fill it with 0 or with the mean of this variable.\n",
    "3. Try both options. For each, train a linear regression model without regularization using the code from the lessons.\n",
    "4. For computing the mean, use the training only!\n",
    "5. Use the validation dataset to evaluate the models and compare the RMSE of each option.\n",
    "6. Round the RMSE scores to 2 decimal digits using round(score, 2)\n",
    "7. Which option gives better RMSE?\n"
   ]
  },
  {
   "cell_type": "code",
   "execution_count": 1370,
   "metadata": {},
   "outputs": [
    {
     "data": {
      "text/plain": [
       "longitude               0\n",
       "latitude                0\n",
       "housing_median_age      0\n",
       "total_rooms             0\n",
       "total_bedrooms        157\n",
       "population              0\n",
       "households              0\n",
       "median_income           0\n",
       "median_house_value      0\n",
       "dtype: int64"
      ]
     },
     "execution_count": 1370,
     "metadata": {},
     "output_type": "execute_result"
    }
   ],
   "source": [
    "df.isnull().sum()"
   ]
  },
  {
   "cell_type": "markdown",
   "metadata": {},
   "source": [
    "## Linear Regression\n"
   ]
  },
  {
   "cell_type": "code",
   "execution_count": 1371,
   "metadata": {},
   "outputs": [
    {
     "data": {
      "text/plain": [
       "539.9108772683346"
      ]
     },
     "execution_count": 1371,
     "metadata": {},
     "output_type": "execute_result"
    }
   ],
   "source": [
    "# mean of df_shuffled\n",
    "df_train_mean = df_train.total_bedrooms.mean()\n",
    "df_train_mean"
   ]
  },
  {
   "cell_type": "code",
   "execution_count": 1372,
   "metadata": {},
   "outputs": [],
   "source": [
    "# linear regression function\n",
    "def train_linear_regression(X, y):\n",
    "    ones = np.ones(X.shape[0])\n",
    "    X = np.column_stack([ones, X])\n",
    "\n",
    "    XTX = X.T.dot(X)\n",
    "    XTX_inv = np.linalg.inv(XTX)\n",
    "    w = XTX_inv.dot(X.T).dot(y)\n",
    "\n",
    "    return w[0], w[1:]"
   ]
  },
  {
   "cell_type": "code",
   "execution_count": 1373,
   "metadata": {},
   "outputs": [],
   "source": [
    "#\n",
    "def prepare_X(df, fillna_val):\n",
    "    df_num = df.fillna(fillna_val)\n",
    "    return df_num.values"
   ]
  },
  {
   "cell_type": "code",
   "execution_count": 1374,
   "metadata": {},
   "outputs": [],
   "source": [
    "def rmse(y, y_pred):\n",
    "    error = y_pred - y\n",
    "    mse = (error**2).mean()\n",
    "    return np.sqrt(mse)"
   ]
  },
  {
   "cell_type": "code",
   "execution_count": 1375,
   "metadata": {},
   "outputs": [
    {
     "data": {
      "text/plain": [
       "0.3341558266506293"
      ]
     },
     "execution_count": 1375,
     "metadata": {},
     "output_type": "execute_result"
    }
   ],
   "source": [
    "# training\n",
    "X_train = prepare_X(df_train, 0)\n",
    "w0, w = train_linear_regression(X_train, y_train)\n",
    "\n",
    "# now validation\n",
    "X_val = prepare_X(df_val, 0)\n",
    "y_pred = w0 + X_val.dot(w)\n",
    "rmse(y_val, y_pred)"
   ]
  },
  {
   "cell_type": "code",
   "execution_count": 1376,
   "metadata": {},
   "outputs": [
    {
     "name": "stderr",
     "output_type": "stream",
     "text": [
      "/Users/debbose/projects/MLZoomcamp/MLZoomcamp/.venv/lib/python3.11/site-packages/seaborn/_oldcore.py:1498: FutureWarning: is_categorical_dtype is deprecated and will be removed in a future version. Use isinstance(dtype, CategoricalDtype) instead\n",
      "  if pd.api.types.is_categorical_dtype(vector):\n",
      "/Users/debbose/projects/MLZoomcamp/MLZoomcamp/.venv/lib/python3.11/site-packages/seaborn/_oldcore.py:1119: FutureWarning: use_inf_as_na option is deprecated and will be removed in a future version. Convert inf values to NaN before operating instead.\n",
      "  with pd.option_context('mode.use_inf_as_na', True):\n",
      "/Users/debbose/projects/MLZoomcamp/MLZoomcamp/.venv/lib/python3.11/site-packages/seaborn/_oldcore.py:1498: FutureWarning: is_categorical_dtype is deprecated and will be removed in a future version. Use isinstance(dtype, CategoricalDtype) instead\n",
      "  if pd.api.types.is_categorical_dtype(vector):\n",
      "/Users/debbose/projects/MLZoomcamp/MLZoomcamp/.venv/lib/python3.11/site-packages/seaborn/_oldcore.py:1119: FutureWarning: use_inf_as_na option is deprecated and will be removed in a future version. Convert inf values to NaN before operating instead.\n",
      "  with pd.option_context('mode.use_inf_as_na', True):\n"
     ]
    },
    {
     "data": {
      "text/plain": [
       "Text(0.5, 1.0, 'Predictions vs actual distribution')"
      ]
     },
     "execution_count": 1376,
     "metadata": {},
     "output_type": "execute_result"
    },
    {
     "data": {
      "image/png": "[encoded data removed]",
      "text/plain": [
       "<Figure size 600x400 with 1 Axes>"
      ]
     },
     "metadata": {},
     "output_type": "display_data"
    }
   ],
   "source": [
    "plt.figure(figsize=(6, 4))\n",
    "\n",
    "sns.histplot(y_train, label=\"target\", color=\"Red\", alpha=0.4, bins=40)\n",
    "sns.histplot(y_pred, label=\"prediction\", color=\"Blue\", alpha=0.5, bins=40)\n",
    "\n",
    "plt.legend()\n",
    "\n",
    "plt.ylabel(\"Frequency\")\n",
    "plt.xlabel(\"Log(Price + 1)\")\n",
    "plt.title(\"Predictions vs actual distribution\")"
   ]
  },
  {
   "cell_type": "markdown",
   "metadata": {},
   "source": [
    "## Question 4\n",
    "\n",
    "1. Now let's train a regularized linear regression.\n",
    "2. For this question, fill the NAs with 0.\n",
    "3. Try different values of r from this list: [0, 0.000001, 0.0001, 0.001, 0.01, 0.1, 1, 5, 10].\n",
    "4. Use RMSE to evaluate the model on the validation dataset.\n",
    "5. Round the RMSE scores to 2 decimal digits.\n",
    "6. Which r gives the best RMSE?\n"
   ]
  },
  {
   "cell_type": "code",
   "execution_count": 1377,
   "metadata": {},
   "outputs": [
    {
     "data": {
      "text/plain": [
       "0.33415582380488745"
      ]
     },
     "execution_count": 1377,
     "metadata": {},
     "output_type": "execute_result"
    }
   ],
   "source": [
    "# Regularization\n",
    "# 1. Now let's train a regularized linear regression.\n",
    "def train_linear_regression_reg(X, y, r=0.001):\n",
    "    ones = np.ones(X.shape[0])\n",
    "    X = np.column_stack([ones, X])\n",
    "\n",
    "    XTX = X.T.dot(X)\n",
    "    reg = r * np.eye(XTX.shape[0])\n",
    "    XTX = XTX + reg\n",
    "\n",
    "    XTX_inv = np.linalg.inv(XTX)\n",
    "    w = XTX_inv.dot(X.T).dot(y)\n",
    "\n",
    "    return w[0], w[1:]\n",
    "\n",
    "\n",
    "# training\n",
    "X_train = prepare_X(df_train, 0)\n",
    "w_0, w = train_linear_regression_reg(X_train, y_train, r=0.000001)\n",
    "\n",
    "# now validation\n",
    "X_val = prepare_X(df_val, 0)\n",
    "y_pred = w_0 + X_val.dot(w)\n",
    "rmse(y_val, y_pred)"
   ]
  },
  {
   "cell_type": "code",
   "execution_count": 1378,
   "metadata": {},
   "outputs": [
    {
     "name": "stdout",
     "output_type": "stream",
     "text": [
      "0 -9.96462212642111 0.3341558266506293\n",
      "1e-06 -9.964601100329393 0.33415582380488745\n",
      "0.0001 -9.962519951112117 0.3341555422438357\n",
      "0.001 -9.943640200287081 0.33415301881100046\n",
      "0.01 -9.758704020987592 0.3341312360914879\n",
      "0.1 -8.22827821595232 0.33415549154556673\n",
      "1 -3.2026155618915384 0.3367918113067658\n",
      "5 -0.8602474789612542 0.3393428280230108\n",
      "10 -0.44818450934281917 0.33987999985510126\n"
     ]
    }
   ],
   "source": [
    "# 3. Try different values of r from this list: [0, 0.000001, 0.0001, 0.001, 0.01, 0.1, 1, 5, 10].\n",
    "X_train = prepare_X(df_train, 0)\n",
    "for r in [0, 0.000001, 0.0001, 0.001, 0.01, 0.1, 1, 5, 10]:\n",
    "    w_0, w = train_linear_regression_reg(X_train, y_train, r=r)\n",
    "\n",
    "    X_val = prepare_X(df_val, 0)\n",
    "    y_pred = w_0 + X_val.dot(w)\n",
    "    score = rmse(y_val, y_pred)\n",
    "    print(r, w_0, score)\n",
    "    # print(f\"{r : <20} {w_0 : ^10} {score     : ^10}\")"
   ]
  },
  {
   "cell_type": "code",
   "execution_count": 1379,
   "metadata": {},
   "outputs": [
    {
     "name": "stdout",
     "output_type": "stream",
     "text": [
      "validation: 0.33\n",
      "test: 0.33\n"
     ]
    }
   ],
   "source": [
    "r = 0\n",
    "\n",
    "X_train = prepare_X(df_train, 0)\n",
    "w_0, w = train_linear_regression_reg(X_train, y_train, r=r)\n",
    "\n",
    "X_val = prepare_X(df_val, 0)\n",
    "y_pred = w_0 + X_val.dot(w)\n",
    "print(\"validation:\", round(rmse(y_val, y_pred), 2))\n",
    "\n",
    "X_test = prepare_X(df_test, 0)\n",
    "y_pred = w_0 + X_test.dot(w)\n",
    "print(\"test:\", round(rmse(y_test, y_pred), 2))"
   ]
  },
  {
   "cell_type": "markdown",
   "metadata": {},
   "source": [
    "## Using the model"
   ]
  },
  {
   "cell_type": "code",
   "execution_count": 1380,
   "metadata": {},
   "outputs": [
    {
     "data": {
      "text/plain": [
       "array([[-117.05  ,   32.82  ,   16.    , ..., 1684.    ,  701.    ,\n",
       "           4.2312],\n",
       "       [-118.    ,   33.91  ,   19.    , ..., 2374.    ,  753.    ,\n",
       "           5.979 ],\n",
       "       [-121.96  ,   37.25  ,   35.    , ...,  484.    ,  174.    ,\n",
       "           6.1648],\n",
       "       ...,\n",
       "       [-116.99  ,   32.85  ,   32.    , ..., 3025.    ,  948.    ,\n",
       "           4.0931],\n",
       "       [-122.68  ,   38.48  ,   15.    , ...,  716.    ,  259.    ,\n",
       "           5.3409],\n",
       "       [-121.95  ,   37.29  ,   30.    , ..., 1834.    ,  824.    ,\n",
       "           3.4505]])"
      ]
     },
     "execution_count": 1380,
     "metadata": {},
     "output_type": "execute_result"
    }
   ],
   "source": [
    "df_full_train = pd.concat([df_train, df_val])\n",
    "df_full_train = df_full_train.reset_index(drop=True)\n",
    "df_full_train\n",
    "\n",
    "X_full_train = prepare_X(df_full_train, 0)\n",
    "X_full_train"
   ]
  },
  {
   "cell_type": "code",
   "execution_count": 1389,
   "metadata": {},
   "outputs": [
    {
     "data": {
      "text/plain": [
       "0.33"
      ]
     },
     "execution_count": 1389,
     "metadata": {},
     "output_type": "execute_result"
    }
   ],
   "source": [
    "y_full_train = np.concatenate([y_train, y_val])\n",
    "w_0, w = train_linear_regression_reg(X_full_train, y_full_train, r=r)\n",
    "\n",
    "\n",
    "X_test = prepare_X(df_test, 0)\n",
    "y_pred = w_0 + X_test.dot(w)\n",
    "score = rmse(y_test, y_pred)\n",
    "round(score, 2)"
   ]
  },
  {
   "cell_type": "code",
   "execution_count": 1382,
   "metadata": {},
   "outputs": [
    {
     "data": {
      "text/plain": [
       "{'longitude': -120.61,\n",
       " 'latitude': 35.1,\n",
       " 'housing_median_age': 14.0,\n",
       " 'total_rooms': 2919.0,\n",
       " 'total_bedrooms': 691.0,\n",
       " 'population': 1896.0,\n",
       " 'households': 577.0,\n",
       " 'median_income': 2.4003}"
      ]
     },
     "execution_count": 1382,
     "metadata": {},
     "output_type": "execute_result"
    }
   ],
   "source": [
    "house = df_test.iloc[20].to_dict()\n",
    "house"
   ]
  },
  {
   "cell_type": "code",
   "execution_count": 1383,
   "metadata": {},
   "outputs": [
    {
     "data": {
      "text/html": [
       "<div>\n",
       "<style scoped>\n",
       "    .dataframe tbody tr th:only-of-type {\n",
       "        vertical-align: middle;\n",
       "    }\n",
       "\n",
       "    .dataframe tbody tr th {\n",
       "        vertical-align: top;\n",
       "    }\n",
       "\n",
       "    .dataframe thead th {\n",
       "        text-align: right;\n",
       "    }\n",
       "</style>\n",
       "<table border=\"1\" class=\"dataframe\">\n",
       "  <thead>\n",
       "    <tr style=\"text-align: right;\">\n",
       "      <th></th>\n",
       "      <th>longitude</th>\n",
       "      <th>latitude</th>\n",
       "      <th>housing_median_age</th>\n",
       "      <th>total_rooms</th>\n",
       "      <th>total_bedrooms</th>\n",
       "      <th>population</th>\n",
       "      <th>households</th>\n",
       "      <th>median_income</th>\n",
       "    </tr>\n",
       "  </thead>\n",
       "  <tbody>\n",
       "    <tr>\n",
       "      <th>0</th>\n",
       "      <td>-120.61</td>\n",
       "      <td>35.1</td>\n",
       "      <td>14.0</td>\n",
       "      <td>2919.0</td>\n",
       "      <td>691.0</td>\n",
       "      <td>1896.0</td>\n",
       "      <td>577.0</td>\n",
       "      <td>2.4003</td>\n",
       "    </tr>\n",
       "  </tbody>\n",
       "</table>\n",
       "</div>"
      ],
      "text/plain": [
       "   longitude  latitude  housing_median_age  total_rooms  total_bedrooms  \\\n",
       "0    -120.61      35.1                14.0       2919.0           691.0   \n",
       "\n",
       "   population  households  median_income  \n",
       "0      1896.0       577.0         2.4003  "
      ]
     },
     "execution_count": 1383,
     "metadata": {},
     "output_type": "execute_result"
    }
   ],
   "source": [
    "df_small = pd.DataFrame([house])\n",
    "df_small"
   ]
  },
  {
   "cell_type": "code",
   "execution_count": 1384,
   "metadata": {},
   "outputs": [
    {
     "data": {
      "text/plain": [
       "12.189219448097147"
      ]
     },
     "execution_count": 1384,
     "metadata": {},
     "output_type": "execute_result"
    }
   ],
   "source": [
    "X_small = prepare_X(df_small, 0)\n",
    "y_pred = w_0 + X_small.dot(w)\n",
    "y_pred = y_pred[0]\n",
    "y_pred"
   ]
  },
  {
   "cell_type": "code",
   "execution_count": 1385,
   "metadata": {},
   "outputs": [
    {
     "data": {
      "text/plain": [
       "196656.60464917944"
      ]
     },
     "execution_count": 1385,
     "metadata": {},
     "output_type": "execute_result"
    }
   ],
   "source": [
    "np.expm1(y_pred)"
   ]
  },
  {
   "cell_type": "code",
   "execution_count": 1386,
   "metadata": {},
   "outputs": [
    {
     "data": {
      "text/plain": [
       "142100.00000000012"
      ]
     },
     "execution_count": 1386,
     "metadata": {},
     "output_type": "execute_result"
    }
   ],
   "source": [
    "np.expm1(y_test[20])"
   ]
  },
  {
   "cell_type": "markdown",
   "metadata": {},
   "source": [
    "Question 5\n",
    "\n",
    "- We used seed 42 for splitting the data. Let's find out how selecting the seed influences our score.\n",
    "- Try different seed values: [0, 1, 2, 3, 4, 5, 6, 7, 8, 9].\n",
    "- For each seed, do the train/validation/test split with 60%/20%/20% distribution.\n",
    "- Fill the missing values with 0 and train a model without regularization.\n",
    "- For each seed, evaluate the model on the validation dataset and collect the RMSE scores.\n",
    "- What's the standard deviation of all the scores? To compute the standard deviation, use np.std.\n",
    "- Round the result to 3 decimal digits (round(std, 3))\n"
   ]
  },
  {
   "cell_type": "code",
   "execution_count": 1388,
   "metadata": {},
   "outputs": [
    {
     "data": {
      "text/plain": [
       "0.005"
      ]
     },
     "execution_count": 1388,
     "metadata": {},
     "output_type": "execute_result"
    }
   ],
   "source": [
    "seeds = [\n",
    "    0.33773871600616767,\n",
    "    0.337799935365921,\n",
    "    0.33842870067644554,\n",
    "    0.33200494683066273,\n",
    "    0.33944518625587883,\n",
    "    0.3433819705275054,\n",
    "    0.33853302117632905,\n",
    "    0.34687476972950265,\n",
    "    0.35127368659576985,\n",
    "    0.3341558266506293,\n",
    "]\n",
    "\n",
    "std = np.std(seeds)\n",
    "round(std, 3)"
   ]
  },
  {
   "cell_type": "markdown",
   "metadata": {},
   "source": [
    "Question 6\n",
    "- Split the dataset like previously, use seed 9.\n",
    "- Combine train and validation datasets.\n",
    "- Fill the missing values with 0 and train a model with r=0.001.\n",
    "- What's the RMSE on the test dataset?\n"
   ]
  },
  {
   "cell_type": "code",
   "execution_count": null,
   "metadata": {},
   "outputs": [],
   "source": []
  }
 ],
 "metadata": {
  "kernelspec": {
   "display_name": ".venv",
   "language": "python",
   "name": "python3"
  },
  "language_info": {
   "codemirror_mode": {
    "name": "ipython",
    "version": 3
   },
   "file_extension": ".py",
   "mimetype": "text/x-python",
   "name": "python",
   "nbconvert_exporter": "python",
   "pygments_lexer": "ipython3",
   "version": "3.11.2"
  },
  "orig_nbformat": 4
 },
 "nbformat": 4,
 "nbformat_minor": 2
}
